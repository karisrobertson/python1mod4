{
 "cells": [
  {
   "cell_type": "markdown",
   "metadata": {},
   "source": [
    "### Module 4 Exercise"
   ]
  },
  {
   "cell_type": "markdown",
   "metadata": {},
   "source": [
    "1. How many occurences of \"row\" is in \"Row, row, row your boat. Gently down the stream. Merrily, merrily, merrily, merrily. Life is but a dream. Row, row, row your boat. Gently up the creek.\" "
   ]
  },
  {
   "cell_type": "code",
   "execution_count": 8,
   "metadata": {},
   "outputs": [
    {
     "data": {
      "text/plain": [
       "4"
      ]
     },
     "execution_count": 8,
     "metadata": {},
     "output_type": "execute_result"
    }
   ],
   "source": [
    "#type out string message\n",
    "message=(\"Row, row, row your boat. Gently down the stream. Merrily, merrily, merrily, merrily. Life is but a dream. Row, row, row your boat. Gently up the creek\")\n",
    "\n",
    "#count the number of occurences of \"row\" in the message\n",
    "message.count(\"row\")\n"
   ]
  },
  {
   "cell_type": "markdown",
   "metadata": {},
   "source": [
    "2. Ask a user for a name, color, and an animal.  <br>\n",
    "Then using string format method per each line, show following:<br>\n",
    "<b><i>name</i></b> had a little <b><i>animal</i></b>. <br>\n",
    "It was <b><i>color</i></b> as snow. <br>\n",
    "And everywhere that <b><i>name</i></b> went, the <b><i>animal</i></b> was sure to go."
   ]
  },
  {
   "cell_type": "code",
   "execution_count": null,
   "metadata": {
    "scrolled": true
   },
   "outputs": [],
   "source": [
    "#Get input from user for name\n",
    "name= input([\"prompt user for name\"])\n",
    "\n",
    "#Get input from user for color\n",
    "color= input([\"prompt user for color\"])\n",
    "\n",
    "#Get input from uer for animal \n",
    "animal= input([\"prompt user for animal\"])\n",
    "\n",
    "#print message with placeholders. Name had a little \"animal\"\n",
    "print(\"{} had a little {}\".format({name},{animal}))\n",
    "\n",
    "#print message with placeholders. It was \"color\" as snow\n",
    "print(\"It was {} as snow\".format({color}))\n",
    "\n",
    "#print message with placeholders. And everwhere that NAME went, the ANIMAL was sure to go\n",
    "print(\"And everywhere that {} went, the {} was sure to go\".format({name},{animal}))\n",
    "\n"
   ]
  },
  {
   "cell_type": "markdown",
   "metadata": {},
   "source": [
    "3. Print 3.14159 in a scientific number notation "
   ]
  },
  {
   "cell_type": "code",
   "execution_count": null,
   "metadata": {},
   "outputs": [],
   "source": [
    "#scientific notation is f\"{enter in number :e}\") or f\"{ :e}\")\n",
    "print(f\"{3.14159:e}\")\n"
   ]
  },
  {
   "cell_type": "markdown",
   "metadata": {},
   "source": [
    "4. Print 3.1559 in 3 decimal places"
   ]
  },
  {
   "cell_type": "code",
   "execution_count": null,
   "metadata": {},
   "outputs": [],
   "source": [
    "#print number with 3 decimal places {:.3f}.format(3.1559)\n",
    "\n",
    "\"{:.3f}\".format(3.1559)"
   ]
  },
  {
   "cell_type": "markdown",
   "metadata": {},
   "source": [
    "5. Print 1589.92341 in a scientific number notation to the power of 3"
   ]
  },
  {
   "cell_type": "code",
   "execution_count": 50,
   "metadata": {},
   "outputs": [
    {
     "name": "stdout",
     "output_type": "stream",
     "text": [
      "1.589923e+03\n"
     ]
    }
   ],
   "source": [
    "#scientific notation to the power of 3\n",
    "#scientific notation is (f\"{  :3e}\" )\n",
    "\n",
    "print(f\"{1589.92341:3e}\")"
   ]
  },
  {
   "cell_type": "markdown",
   "metadata": {},
   "source": [
    "6. Convert 39 to a binary number using floor division and mod operators. Then, compare your answer using bin() and int() functions."
   ]
  },
  {
   "cell_type": "code",
   "execution_count": 120,
   "metadata": {},
   "outputs": [
    {
     "data": {
      "text/plain": [
       "39"
      ]
     },
     "execution_count": 120,
     "metadata": {},
     "output_type": "execute_result"
    }
   ],
   "source": [
    "\n",
    "#floor division divided by 2 // > for whole integer number. First step to translate number into binary\n",
    "39//2 #19 \n",
    "19//2 #9\n",
    "9//2 #4\n",
    "4//2 #2\n",
    "2//2 #1\n",
    "1//2 #0\n",
    "\n",
    "1%2 #1\n",
    "2%2 #0\n",
    "4%2 #0\n",
    "9%2 #1\n",
    "19%2 #1\n",
    "39%2 #1\n",
    "\n",
    "#list mod operators ordered from least to greatest 0-39 for binary number \n",
    "(1%2, 2%2, 4%2, 9%2, 19%2, 39%2)\n",
    "\n",
    "\n",
    "#CHECKPOINT USING BIN AND INT(0B ..)\n",
    "#use bin() or binary function to convert 39 to a binary number\n",
    "bin(39)\n",
    "\n",
    "#start with prefix of int (0b ..insert number)to convert binary number back to integer number \n",
    "int(0b100111)\n",
    "\n",
    "\n"
   ]
  },
  {
   "cell_type": "markdown",
   "metadata": {},
   "source": [
    "7. Convert 39 to an octal number using floor division and mod operators. Then, compare your answer using oct() and int() functions."
   ]
  },
  {
   "cell_type": "code",
   "execution_count": null,
   "metadata": {},
   "outputs": [],
   "source": []
  },
  {
   "cell_type": "markdown",
   "metadata": {},
   "source": [
    "8. Convert 39 to a hexadecimal number using floor division and mod operators. Then, compare your answer using hex() and int() functions."
   ]
  },
  {
   "cell_type": "code",
   "execution_count": null,
   "metadata": {},
   "outputs": [],
   "source": [
    "\n",
    "\n"
   ]
  },
  {
   "cell_type": "markdown",
   "metadata": {},
   "source": [
    "# 9. Ask a user for an amount and a tax rate in percentage. Then, display the amount, rate in percentage, calculated tax amount, and the total (amount + tax amount) in one <b>nice</b> formmated print statement."
   ]
  },
  {
   "cell_type": "code",
   "execution_count": 34,
   "metadata": {},
   "outputs": [
    {
     "name": "stdout",
     "output_type": "stream",
     "text": [
      "['prompt user for amount']5\n",
      "['prompt user for tax rate percentage']3\n",
      "amount is: {5},rate in percentate is:{0.03}, calculated tax amount is: {0.15}, total is: {5.15}\n"
     ]
    }
   ],
   "source": [
    "#ask user for amount\n",
    "amount= int(input([\"prompt user for amount\"]))\n",
    "\n",
    "#ask user for tax rate percentage\n",
    "trp= int(input([\"prompt user for tax rate percentage\"]))\n",
    "\n",
    "\n",
    "\n",
    "#convert tax rate into a percentage\n",
    "#rateinpercentage= ((\"Rate is { rate:.2%}\").format({taxratepercentage}))OR ** INTEGER OF TAX INPUT DIVIDED BY 100\n",
    "\n",
    "rateinpercentage= (trp)/100\n",
    "\n",
    "\n",
    "#calculated tax amount \n",
    "\n",
    "calculatedtaxamount= amount * rateinpercentage\n",
    "\n",
    "\n",
    "#total amount \n",
    "total= amount + calculatedtaxamount\n",
    "\n",
    "\n",
    "#display the amount\n",
    "print(\"amount is: {},rate in percentate is:{}, calculated tax amount is: {}, total is: {}\".format({amount},{rateinpercentage},{calculatedtaxamount},{total}))\n",
    "\n",
    "\n"
   ]
  },
  {
   "cell_type": "code",
   "execution_count": null,
   "metadata": {},
   "outputs": [],
   "source": []
  }
 ],
 "metadata": {
  "kernelspec": {
   "display_name": "Python 3 (ipykernel)",
   "language": "python",
   "name": "python3"
  },
  "language_info": {
   "codemirror_mode": {
    "name": "ipython",
    "version": 3
   },
   "file_extension": ".py",
   "mimetype": "text/x-python",
   "name": "python",
   "nbconvert_exporter": "python",
   "pygments_lexer": "ipython3",
   "version": "3.11.5"
  }
 },
 "nbformat": 4,
 "nbformat_minor": 4
}
